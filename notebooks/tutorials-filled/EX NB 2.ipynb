{
 "cells": [
  {
   "cell_type": "markdown",
   "id": "6b86220e",
   "metadata": {},
   "source": [
    "# The Atlas\n",
    "\n",
    "The `atlas` works as a hub for getting at your data. It allows you to explore your data sources and begin to script queries in python. \n",
    "\n",
    "This notebook covers the exploration aspect of the `lumipy` atlas. \n",
    "\n",
    "## Building Your Atlas\n",
    "\n",
    "Import `lumipy` like before and get the atlas with the `get_atlas` function at the top of the module. It will take the same authentication parameters as the client. Assign the object output from this function to a variable called `atlas`.\n",
    "\n",
    "You should see visual feedback that shows the build process and then how many data/direct providers you can use. "
   ]
  },
  {
   "cell_type": "code",
   "execution_count": 1,
   "id": "4d7f5a26",
   "metadata": {},
   "outputs": [],
   "source": [
    "import lumipy as lm"
   ]
  },
  {
   "cell_type": "code",
   "execution_count": 2,
   "id": "b9a7fca7",
   "metadata": {},
   "outputs": [
    {
     "name": "stdout",
     "output_type": "stream",
     "text": [
      "Getting atlas🌏\n",
      "  • Querying data provider metadata...\n",
      "  • Querying direct provider metadata...\n",
      "  • Building atlas...\n",
      "Done!\n",
      "Contents: \n",
      "  • 273 data providers\n",
      "  • 18 direct providers\n"
     ]
    }
   ],
   "source": [
    "atlas = lm.get_atlas(api_secrets_filename='secrets.json')"
   ]
  },
  {
   "cell_type": "markdown",
   "id": "7d3ddf3c",
   "metadata": {},
   "source": [
    "## Exploring Your Providers\n",
    "\n",
    "\n",
    "### Providers as Attributes\n",
    "\n",
    "Use tab completion to see what providers you have access to then pick one. Print this attribute to see information about the provider. After this pick one of the fields of the provider and print information in the same way. \n",
    "\n",
    "![fig 1](atlas_tab_completion.png)"
   ]
  },
  {
   "cell_type": "code",
   "execution_count": 3,
   "id": "84552c74",
   "metadata": {},
   "outputs": [
    {
     "data": {
      "text/plain": [
       "└•Provider Definition: lusid_instrument                 \n",
       "   ├•Table SQL Name: Lusid.Instrument                   \n",
       "   ├•Type: DataProvider                                 \n",
       "   ├•Category: Lusid                                    \n",
       "   ├•Description: Returns Lusid Instrument data         \n",
       "   ├•Documentation: [Not Available]                     \n",
       "   ├•Last Ping At: 2022-10-18 14:27:23.395472Z          \n",
       "   └•Fields:                                            \n",
       "      ├•client_internal              Column     Text    \n",
       "      ├•composite_figi               Column     Text    \n",
       "      ├•cusip                        Column     Text    \n",
       "      ├•display_name                 Column     Text    \n",
       "      ├•edi_key                      Column     Text    \n",
       "      ├•figi                         Column     Text    \n",
       "      ├•inferred_asset_class         Column     Text    \n",
       "      ├•inferred_dom_ccy             Column     Text    \n",
       "      ├•is_active                    Column     Boolean \n",
       "      ├•isin                         Column     Text    \n",
       "      ├•look_through_portfolio_code  Column     Text    \n",
       "      ├•look_through_portfolio_scope Column     Text    \n",
       "      ├•lusid_instrument_id          Column     Text    \n",
       "      ├•quote_perm_id                Column     Text    \n",
       "      ├•ric                          Column     Text    \n",
       "      ├•scope                        Column     Text    \n",
       "      ├•sedol                        Column     Text    \n",
       "      ├•share_class_figi             Column     Text    \n",
       "      ├•ticker                       Column     Text    \n",
       "      ├•type                         Column     Text    \n",
       "      ├•wertpapier                   Column     Text    \n",
       "      ├•as_at                        Parameter  DateTime\n",
       "      ├•effective_at                 Parameter  DateTime\n",
       "      └•use_lusid_filter             Parameter  Boolean "
      ]
     },
     "execution_count": 3,
     "metadata": {},
     "output_type": "execute_result"
    }
   ],
   "source": [
    "atlas.lusid_instrument"
   ]
  },
  {
   "cell_type": "code",
   "execution_count": 4,
   "id": "b2a70cdb",
   "metadata": {},
   "outputs": [
    {
     "data": {
      "text/plain": [
       "└•Field Definition: as_at (AsAt)                             \n",
       "   ├•field_name: AsAt                                        \n",
       "   ├•field_type: Parameter                                   \n",
       "   ├•table_name: Lusid.Instrument                            \n",
       "   ├•data_type: SqlValType.DateTime                          \n",
       "   ├•description: As at time to query at. Defaults to latest.\n",
       "   ├•is_main: True                                           \n",
       "   ├•is_primary_key: True                                    \n",
       "   ├•param_default_value: 0001-01-01T00:00:00Z               \n",
       "   ├•table_param_columns: nan                                \n",
       "   └•body_param_order: None                                  "
      ]
     },
     "execution_count": 4,
     "metadata": {},
     "output_type": "execute_result"
    }
   ],
   "source": [
    "atlas.lusid_instrument.as_at"
   ]
  },
  {
   "cell_type": "markdown",
   "id": "e4d56604",
   "metadata": {},
   "source": [
    "### Provider Parameters\n",
    "\n",
    "Use `tab + shift` inside the attribute's parentheses to see the parameters and docstring of the provider\n",
    "\n",
    "![fig 2](atlas_shift_tab.png)"
   ]
  },
  {
   "cell_type": "code",
   "execution_count": 6,
   "id": "833c69c5",
   "metadata": {},
   "outputs": [],
   "source": [
    "inst = atlas.lusid_instrument()"
   ]
  },
  {
   "cell_type": "markdown",
   "id": "d7aebc67",
   "metadata": {},
   "source": [
    "### Search Functionality\n",
    "\n",
    "Use `atlas.search_providers('lusid_portfolio')` to search the atlas for portfolio-related providers and return a new sub-atlas. Call this atlas `pf_atlas`"
   ]
  },
  {
   "cell_type": "code",
   "execution_count": 10,
   "id": "bccaeefd",
   "metadata": {
    "scrolled": true
   },
   "outputs": [],
   "source": [
    "pf_atlas = atlas.search_providers('lusid_portfolio')"
   ]
  },
  {
   "cell_type": "markdown",
   "id": "d17da183",
   "metadata": {},
   "source": [
    "### Listing Provider Objects\n",
    "\n",
    "Use `pf_atlas.list_providers()` to get a list of the providers in the atlas so you can explore them programmatically. \n",
    "\n",
    "Make a list of provider names in the above sub-atlas by calling `list_providers` for the list and then `get_name` on each element. "
   ]
  },
  {
   "cell_type": "code",
   "execution_count": 11,
   "id": "5b2bedff",
   "metadata": {},
   "outputs": [
    {
     "data": {
      "text/plain": [
       "['lusid_portfolio',\n",
       " 'lusid_portfolio_aggregatedreturn',\n",
       " 'lusid_portfolio_atob',\n",
       " 'lusid_portfolio_constituent',\n",
       " 'lusid_portfolio_constituent_writer',\n",
       " 'lusid_portfolio_holding',\n",
       " 'lusid_portfolio_holding_property',\n",
       " 'lusid_portfolio_holding_writer',\n",
       " 'lusid_portfolio_return',\n",
       " 'lusid_portfolio_return_writer',\n",
       " 'lusid_portfolio_txn',\n",
       " 'lusid_portfolio_txn_property',\n",
       " 'lusid_portfolio_txn_property_writer',\n",
       " 'lusid_portfolio_txn_writer',\n",
       " 'lusid_portfolio_valuation',\n",
       " 'lusid_portfolio_valuation_measure',\n",
       " 'lusid_portfolio_writer',\n",
       " 'lusid_portfoliogroup',\n",
       " 'lusid_portfoliogroup_writer',\n",
       " 'lusid_portfolioorder',\n",
       " 'lusid_portfolioorder_writer']"
      ]
     },
     "execution_count": 11,
     "metadata": {},
     "output_type": "execute_result"
    }
   ],
   "source": [
    "[p.get_name() for p in pf_atlas.list_providers()]"
   ]
  },
  {
   "cell_type": "code",
   "execution_count": null,
   "id": "cefa386f",
   "metadata": {},
   "outputs": [],
   "source": []
  }
 ],
 "metadata": {
  "kernelspec": {
   "display_name": "Python 3 (ipykernel)",
   "language": "python",
   "name": "python3"
  },
  "language_info": {
   "codemirror_mode": {
    "name": "ipython",
    "version": 3
   },
   "file_extension": ".py",
   "mimetype": "text/x-python",
   "name": "python",
   "nbconvert_exporter": "python",
   "pygments_lexer": "ipython3",
   "version": "3.8.11"
  }
 },
 "nbformat": 4,
 "nbformat_minor": 5
}
