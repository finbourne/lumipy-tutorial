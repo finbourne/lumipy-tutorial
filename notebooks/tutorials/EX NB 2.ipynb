{
 "cells": [
  {
   "cell_type": "markdown",
   "id": "6b86220e",
   "metadata": {},
   "source": [
    "# The Atlas\n",
    "\n",
    "The `atlas` works as a hub for getting at your data. It allows you to explore your data sources and begin to script queries in python. \n",
    "\n",
    "This notebook covers the exploration aspect of the `lumipy` atlas. \n",
    "\n",
    "## Building Your Atlas\n",
    "\n",
    "Import `lumipy` like before and get the atlas with the `get_atlas` function at the top of the module. It will take the same authentication parameters as the client. Assign the object output from this function to a variable called `atlas`.\n",
    "\n",
    "You should see visual feedback that shows the build process and then how many data/direct providers you can use. "
   ]
  },
  {
   "cell_type": "code",
   "execution_count": null,
   "id": "4d7f5a26",
   "metadata": {},
   "outputs": [],
   "source": []
  },
  {
   "cell_type": "code",
   "execution_count": null,
   "id": "b9a7fca7",
   "metadata": {},
   "outputs": [],
   "source": []
  },
  {
   "cell_type": "markdown",
   "id": "7d3ddf3c",
   "metadata": {},
   "source": [
    "## Exploring Your Providers\n",
    "\n",
    "\n",
    "### Providers as Attributes\n",
    "\n",
    "Use tab completion to see what providers you have access to then pick one. Print this attribute to see information about the provider. After this pick one of the fields of the provider and print information in the same way. \n",
    "\n",
    "![fig 1](atlas_tab_completion.png)"
   ]
  },
  {
   "cell_type": "code",
   "execution_count": null,
   "id": "84552c74",
   "metadata": {},
   "outputs": [],
   "source": []
  },
  {
   "cell_type": "markdown",
   "id": "e4d56604",
   "metadata": {},
   "source": [
    "### Provider Parameters\n",
    "\n",
    "Use `tab + shift` inside the attribute's parentheses to see the parameters and docstring of the provider\n",
    "\n",
    "![fig 2](atlas_shift_tab.png)"
   ]
  },
  {
   "cell_type": "code",
   "execution_count": null,
   "id": "833c69c5",
   "metadata": {},
   "outputs": [],
   "source": []
  },
  {
   "cell_type": "markdown",
   "id": "d7aebc67",
   "metadata": {},
   "source": [
    "### Search Functionality\n",
    "\n",
    "Use `atlas.search_providers('lusid_portfolio')` to search the atlas for portfolio-related providers and return a new sub-atlas. Call this atlas `pf_atlas`"
   ]
  },
  {
   "cell_type": "code",
   "execution_count": null,
   "id": "bccaeefd",
   "metadata": {
    "scrolled": true
   },
   "outputs": [],
   "source": []
  },
  {
   "cell_type": "markdown",
   "id": "d17da183",
   "metadata": {},
   "source": [
    "### Listing Provider Objects\n",
    "\n",
    "Use `pf_atlas.list_providers()` to get a list of the providers in the atlas so you can explore them programmatically. \n",
    "\n",
    "Make a list of provider names in the above sub-atlas by calling `list_providers` for the list and then `get_name` on each element. "
   ]
  },
  {
   "cell_type": "code",
   "execution_count": null,
   "id": "5b2bedff",
   "metadata": {},
   "outputs": [],
   "source": []
  }
 ],
 "metadata": {
  "kernelspec": {
   "display_name": "Python 3 (ipykernel)",
   "language": "python",
   "name": "python3"
  },
  "language_info": {
   "codemirror_mode": {
    "name": "ipython",
    "version": 3
   },
   "file_extension": ".py",
   "mimetype": "text/x-python",
   "name": "python",
   "nbconvert_exporter": "python",
   "pygments_lexer": "ipython3",
   "version": "3.8.11"
  }
 },
 "nbformat": 4,
 "nbformat_minor": 5
}
