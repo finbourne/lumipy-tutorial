{
 "cells": [
  {
   "cell_type": "code",
   "execution_count": 8,
   "id": "86c81e10",
   "metadata": {},
   "outputs": [],
   "source": [
    "import lumipy as lm"
   ]
  },
  {
   "cell_type": "code",
   "execution_count": 7,
   "id": "a6551e65",
   "metadata": {},
   "outputs": [],
   "source": [
    "# Get your atlas here as before\n"
   ]
  },
  {
   "cell_type": "markdown",
   "id": "b9b5d29a",
   "metadata": {},
   "source": [
    "# Query Scripting II: CSVs, Table Variables and Window Functions\n",
    "\n",
    "Take the `data/aapl_tsla.csv` file in the repo and put it into drive. Save down the full path of the file in drive for later - we're going to use it as a data source in this notebook. "
   ]
  },
  {
   "cell_type": "markdown",
   "id": "6fdb301e",
   "metadata": {},
   "source": [
    "## CSV File in Drive\n",
    "### Background\n",
    "\n",
    "You can read files from drive and treat them like any other provider\n",
    "```\n",
    "    csv = atlas.drive_csv(file='/path/in/drive/to/your.csv')\n",
    "```\n",
    "\n",
    "Once initialised you can chain on `.select()` etc. to build your query. \n",
    "\n",
    "### Exercise\n",
    "Initialised a provider object for your `aapl_tsla.csv` CSV and select the first 10 rows from it."
   ]
  },
  {
   "cell_type": "code",
   "execution_count": null,
   "id": "eed91fd5",
   "metadata": {},
   "outputs": [],
   "source": []
  },
  {
   "cell_type": "code",
   "execution_count": null,
   "id": "0a929a67",
   "metadata": {},
   "outputs": [],
   "source": []
  },
  {
   "cell_type": "markdown",
   "id": "bf5b5445",
   "metadata": {},
   "source": [
    "## Table Variables and Column Functions\n",
    "\n",
    "### Background\n",
    "The results of a subquery may be stored in a table variable and re-used later on in a Luminesce query. You can do this in lumipy by calling `.to_table_var()` in your query script. \n",
    "\n",
    "Functions can be applied to columns by calling the corresponding method on the column object. Some of these method are organised with accessor attributes much like pandas' `df['col'].str` and `df['col'].dt` etc.\n",
    "\n",
    "### Exercise\n",
    "\n",
    "Create a table variable from data derived from the CSV. The table variable should contain log returns data for AAPL and TSLA in separate columns. Name these new columns `aapl_log_rets` and `tsla_log_rets`.\n",
    "\n",
    "Log returns would be calculated for AAPL like this\n",
    "```\n",
    "    (csv.aapl.finance.prices_to_returns() + 1).log()\n",
    "```"
   ]
  },
  {
   "cell_type": "code",
   "execution_count": null,
   "id": "7b76dc25",
   "metadata": {},
   "outputs": [],
   "source": []
  },
  {
   "cell_type": "code",
   "execution_count": null,
   "id": "bccee1ba",
   "metadata": {},
   "outputs": [],
   "source": []
  },
  {
   "cell_type": "markdown",
   "id": "96b72834",
   "metadata": {},
   "source": [
    "## Windows and Window Functions\n",
    "\n",
    "### Background\n",
    "\n",
    "Windows allow us to create sliding frames and partions of our data and apply functions to them. In this notebook we'll use a window to compute statistics in a 90-day sliding window. In lumipy these windows are created using a top-level function in the module: `lumipy.window`\n",
    "\n",
    "A sliding window with a fixed number of rows before / after is specified by\n",
    "```\n",
    "    sliding = lm.window(lower=n_before, upper=n_after)\n",
    "```\n",
    "\n",
    "An expanding window in either direction is specified by setting one of the `lower`/`upper` to `None`\n",
    "```\n",
    "    # Expanding window from the start to current row\n",
    "    expanding = lm.window(lower=None, upper=0)\n",
    "```\n",
    "\n",
    "Functions are applied to windows in a similar way to columns\n",
    "```\n",
    "    window.finance.max_drawdown(table.prices)\n",
    "```\n",
    "\n",
    "### Exercise\n",
    "\n",
    "Create a window that covers 90 days (rows) up to now and build columns that apply some statistics in this window. Add these columns in a `.select` call on tv and send the query off with `.go()`"
   ]
  },
  {
   "cell_type": "code",
   "execution_count": 7,
   "id": "12d5c4f1",
   "metadata": {},
   "outputs": [],
   "source": []
  },
  {
   "cell_type": "code",
   "execution_count": null,
   "id": "bfb43b31",
   "metadata": {},
   "outputs": [],
   "source": []
  }
 ],
 "metadata": {
  "kernelspec": {
   "display_name": "Python 3 (ipykernel)",
   "language": "python",
   "name": "python3"
  },
  "language_info": {
   "codemirror_mode": {
    "name": "ipython",
    "version": 3
   },
   "file_extension": ".py",
   "mimetype": "text/x-python",
   "name": "python",
   "nbconvert_exporter": "python",
   "pygments_lexer": "ipython3",
   "version": "3.8.11"
  }
 },
 "nbformat": 4,
 "nbformat_minor": 5
}
