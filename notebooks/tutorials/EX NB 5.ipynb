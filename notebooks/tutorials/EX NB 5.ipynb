{
 "cells": [
  {
   "cell_type": "code",
   "execution_count": 1,
   "id": "ffaa1c29",
   "metadata": {},
   "outputs": [],
   "source": [
    "import lumipy as lm\n",
    "import datetime as dt"
   ]
  },
  {
   "cell_type": "code",
   "execution_count": 1,
   "id": "af641d0a",
   "metadata": {},
   "outputs": [],
   "source": [
    "# Get your atlas here as before\n"
   ]
  },
  {
   "cell_type": "markdown",
   "id": "9b333f91",
   "metadata": {},
   "source": [
    "# Joins"
   ]
  },
  {
   "cell_type": "markdown",
   "id": "f9a3d565",
   "metadata": {},
   "source": [
    "## Create Portfolio and Portfolio Holdings Objects\n",
    "\n",
    "### Exercise\n",
    "\n",
    "Create instances of the `lusid_portfolio` and `lusid_portfolio_holding` providers both with `as_at=dt.datetime(2022, 9, 1)`"
   ]
  },
  {
   "cell_type": "code",
   "execution_count": null,
   "id": "4d42962c",
   "metadata": {},
   "outputs": [],
   "source": []
  },
  {
   "cell_type": "markdown",
   "id": "5a75de5d",
   "metadata": {},
   "source": [
    "## Create Finbourne Example Portfolios Table Variable \n",
    "\n",
    "### Exercise \n",
    "Filter the portfolios on scope so we just have the ones in `Finbourne-Examples` (just like in EX NB 3) and turn it into a table variable called `tv`. "
   ]
  },
  {
   "cell_type": "code",
   "execution_count": null,
   "id": "7574faa7",
   "metadata": {},
   "outputs": [],
   "source": []
  },
  {
   "cell_type": "markdown",
   "id": "1928a38f",
   "metadata": {},
   "source": [
    "## Left Join the Table Variable on Holdings\n",
    "\n",
    "### Background\n",
    "Joins tables are built by calling a join method on one table and supplying the other table to join on plus the join condition\n",
    "```\n",
    "    join = table1.left_join(table2, on=table1.col == table2.col)\n",
    "```\n",
    "\n",
    "\n",
    "### Exercise\n",
    "Create a join table by left-joining `tv` with the `lusid_portfolio_holdings` instance on `portfolio_code`. Then query the data out with `select('*').go()`"
   ]
  },
  {
   "cell_type": "code",
   "execution_count": null,
   "id": "e3354d08",
   "metadata": {},
   "outputs": [],
   "source": []
  }
 ],
 "metadata": {
  "kernelspec": {
   "display_name": "Python 3 (ipykernel)",
   "language": "python",
   "name": "python3"
  },
  "language_info": {
   "codemirror_mode": {
    "name": "ipython",
    "version": 3
   },
   "file_extension": ".py",
   "mimetype": "text/x-python",
   "name": "python",
   "nbconvert_exporter": "python",
   "pygments_lexer": "ipython3",
   "version": "3.8.11"
  }
 },
 "nbformat": 4,
 "nbformat_minor": 5
}
