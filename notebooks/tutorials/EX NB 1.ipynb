{
 "cells": [
  {
   "cell_type": "markdown",
   "id": "6b536a74",
   "metadata": {},
   "source": [
    "# Your First Query - Running a SQL String\n",
    "\n",
    "The simplest way to use `Lumipy` is to use a `Client` object. The client is wrapper around the Web API that you can use to send SQL strings to `Luminesce` and get results back as `DataFrames`. \n",
    "\n",
    "## Setup\n",
    "You can install lumipy from `PyPI` with the following\n",
    "```\n",
    "    pip install dve-lumipy-preview\n",
    "```\n",
    "Once `lumipy` is installed and you have your authentication details ready you're good to. If you want to go the secrets file route, create a file called `secrets.json` in this directory with the following content filled in\n",
    "```\n",
    "{\n",
    "    \"api\" : {\n",
    "    \"tokenUrl\": \"the okta token url\", \n",
    "    \"username\": \"your okta username\", \n",
    "    \"password\": \"your okta password\", \n",
    "    \"clientId\": \"the client id\", \n",
    "    \"clientSecret\": \"the client secret\", \n",
    "    \"lumiApiUrl\": \"https://<ENV>.lusid.com/honeycomb/ }\n",
    "}\n",
    "```\n",
    "\n",
    "## Import lumipy\n",
    "\n",
    "Import the `lumipy` library and give it the alias `lm`"
   ]
  },
  {
   "cell_type": "code",
   "execution_count": null,
   "id": "c0b2e05f",
   "metadata": {},
   "outputs": [],
   "source": []
  },
  {
   "cell_type": "markdown",
   "id": "3947df4c",
   "metadata": {},
   "source": [
    "## Get the Client\n",
    "\n",
    "Use the `get_client` function at the top level of the module with your authentication choice to build a client object. If you have placed your `secrets.json` in the same directory as this notebook then you'll do the following\n",
    "```\n",
    "    client = lm.get_client(api_secrets_filename='secrets.json')\n",
    "```\n",
    "If you're using an access token (such as `RefreshingToken` in JupyterHub) then you'll do something like the following\n",
    "```\n",
    "    client = lm.get_client(\n",
    "        token=\"<your token>\", \n",
    "        api_url=\"https://<your env>.lusid.com/honeycomb/\"\n",
    "    )\n",
    "```"
   ]
  },
  {
   "cell_type": "code",
   "execution_count": null,
   "id": "7a6756ab",
   "metadata": {},
   "outputs": [],
   "source": []
  },
  {
   "cell_type": "markdown",
   "id": "8b1a10ac",
   "metadata": {},
   "source": [
    "## Run a SQL String\n",
    "\n",
    "Use the run method on the client to run a query and get the result back as a pandas `DataFrame`. Consider a SQL query that selects the main columns (`^`) from `lusid.portfolio` limited to the first 10 rows."
   ]
  },
  {
   "cell_type": "code",
   "execution_count": null,
   "id": "b3f84dd4",
   "metadata": {},
   "outputs": [],
   "source": []
  }
 ],
 "metadata": {
  "kernelspec": {
   "display_name": "Python 3 (ipykernel)",
   "language": "python",
   "name": "python3"
  },
  "language_info": {
   "codemirror_mode": {
    "name": "ipython",
    "version": 3
   },
   "file_extension": ".py",
   "mimetype": "text/x-python",
   "name": "python",
   "nbconvert_exporter": "python",
   "pygments_lexer": "ipython3",
   "version": "3.8.11"
  }
 },
 "nbformat": 4,
 "nbformat_minor": 5
}
