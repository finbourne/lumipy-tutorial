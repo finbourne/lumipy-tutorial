{
 "cells": [
  {
   "cell_type": "code",
   "execution_count": 2,
   "id": "933461a4",
   "metadata": {},
   "outputs": [],
   "source": [
    "import lumipy as lm\n",
    "import datetime as dt"
   ]
  },
  {
   "cell_type": "code",
   "execution_count": 4,
   "id": "5c2171e6",
   "metadata": {},
   "outputs": [],
   "source": [
    "# Get the atlas again up here\n"
   ]
  },
  {
   "cell_type": "markdown",
   "id": "ff93b719",
   "metadata": {},
   "source": [
    "# Query Scripting I\n",
    "\n",
    "The other role of the `atlas` is as the starting point for `lumipy`'s fluent query syntax. You start by initialising a table object from an atlas attribute. \n",
    "```\n",
    "    table = atlas.my_provider()\n",
    "```\n",
    "\n",
    "If the provider takes parameters they are specified here as keyword arguments, not in the `where` clause. This is different to normal luminesce SQL. \n",
    "```\n",
    "    table = atlas.my_provider(param1=value1)\n",
    "```\n",
    "\n",
    "## Query 1A: Select and Limit\n",
    "\n",
    "### Background\n",
    "Once the table object is made, the next step is to chain methods, beginning with `.select`, to build up the query. \n",
    "```\n",
    "    query = table.select('*')\n",
    "```\n",
    "\n",
    "Finally, once that's done and you're ready to send the query you just call `.go()` on the query object.\n",
    "\n",
    "```\n",
    "    df = query.go()\n",
    "```\n",
    "\n",
    "### Exercise\n",
    "Select the main columns (`'^'`) limited to 10 rows from the `lusid_portfolio` provider with an `as_at` parameter equal to 2022/09/01. Use a python `datetime` object as the value: `dt.datetime(2022, 9, 1)`."
   ]
  },
  {
   "cell_type": "code",
   "execution_count": null,
   "id": "c6de4a45",
   "metadata": {},
   "outputs": [],
   "source": []
  },
  {
   "cell_type": "markdown",
   "id": "d6249127",
   "metadata": {},
   "source": [
    "## Query 1B: New Columns\n",
    "\n",
    "### Background\n",
    "New columns of values are built up by applying python operations to table columns. These columns live as attributes on the table objects, for example\n",
    "```\n",
    "    (table.value1 + table.value1) / 2\n",
    "```\n",
    "\n",
    "To use these in a query you supply them to the `.select` method as keyword argyments. The keyword will be the name granted to the column\n",
    "\n",
    "```\n",
    "    query = table.select('*', Doubled=table.col * 2)\n",
    "```\n",
    "\n",
    "### Exercise\n",
    "Create a new column called `LoudNoises` that is the portfolio code string converted to upper case. You can do this similarly to pandas by using the `.str` accessor and the associated method\n",
    "```\n",
    "    table.column.str.upper()\n",
    "```"
   ]
  },
  {
   "cell_type": "code",
   "execution_count": null,
   "id": "67ddb232",
   "metadata": {},
   "outputs": [],
   "source": []
  },
  {
   "cell_type": "markdown",
   "id": "6a3ece9e",
   "metadata": {},
   "source": [
    "## Query 2: Where \n",
    "\n",
    "### Background\n",
    "Other methods are chained in the standard SQL order of `select`, `where`, `group_by`, `aggregate`, `having`, `order_by` then `limit`. \n",
    "\n",
    "Let's try filtering with a where clause next. Where clauses are added by chaining `.where` after `.select` and giving a column expression that resolves to a boolean as its argument. \n",
    "```\n",
    "    table.select('*').where(table.col == value)\n",
    "```\n",
    "\n",
    "### Exercise\n",
    "Now filter for the portfolios that have a `portfolio_scope` equal to the `Finbourne-Examples` scope. Use the `example_scope` variable below. "
   ]
  },
  {
   "cell_type": "code",
   "execution_count": 6,
   "id": "544e9d41",
   "metadata": {},
   "outputs": [],
   "source": [
    "example_scope = 'Finbourne-Examples'"
   ]
  },
  {
   "cell_type": "code",
   "execution_count": null,
   "id": "fcffa1a9",
   "metadata": {},
   "outputs": [],
   "source": []
  },
  {
   "cell_type": "markdown",
   "id": "d4815cb3",
   "metadata": {},
   "source": [
    "## Case Statements and Printing SQL\n",
    "\n",
    "### Background\n",
    "What's happening as you operate on and call methods on columns is that you're building up an a graph that represent bits of SQL. You can see the SQL that it resolves to with `.print_sql()`.\n",
    "\n",
    "### Exercise\n",
    "Print the underlying SQL for the region case statement that's constructed below by calling `.print_sql()`and (optionally) print the graph by just printing the variable `region`"
   ]
  },
  {
   "cell_type": "code",
   "execution_count": null,
   "id": "1e63efab",
   "metadata": {},
   "outputs": [],
   "source": [
    "region = pf.when(\n",
    "    pf.portfolio_code.str.contains('global')\n",
    ").then(\n",
    "    \"Global\"\n",
    ").when(\n",
    "    pf.portfolio_code.str.contains('US')\n",
    ").then(\n",
    "    'USA'\n",
    ").when(\n",
    "    pf.portfolio_code.str.contains('UK')\n",
    ").then(\n",
    "    'UK'\n",
    ").otherwise(\n",
    "    'OTHER'\n",
    ")"
   ]
  },
  {
   "cell_type": "code",
   "execution_count": null,
   "id": "fd9f0a8a",
   "metadata": {},
   "outputs": [],
   "source": []
  },
  {
   "cell_type": "markdown",
   "id": "c921e5ae",
   "metadata": {},
   "source": [
    "## Query 3: Grouping and Aggregating\n",
    "\n",
    "### Background \n",
    "\n",
    "Grouping and aggregation in `lumipy` works similarly to `pandas`. In `pandas` you'd have something like this \n",
    "```\n",
    "    df.groupby('Category').agg(ColumnMean=('Column', 'mean'))\n",
    "```\n",
    "it's structured in a similar way in `lumipy`. Here you also `group_by` and `aggregate` as separate methods and give values to the latter as keyword arguments. One difference in this case is that the aggregation function live as methods on the columns\n",
    "```\n",
    "    table.select(\n",
    "        table.category\n",
    "    ).group_by(\n",
    "        table.category\n",
    "    ).aggregate(\n",
    "        ColumnMean=table.column.mean()\n",
    "    )\n",
    "```\n",
    "\n",
    "\n",
    "### Exercise\n",
    "Group the table by the region varible (the switch statement above) and count how many portfolios there are in each region in the `Finbourne-Examples` scope. Call this new column `PortfolioCount`. Use `.count()` in the `.aggregate()` method."
   ]
  },
  {
   "cell_type": "code",
   "execution_count": null,
   "id": "f6f22562",
   "metadata": {},
   "outputs": [],
   "source": []
  }
 ],
 "metadata": {
  "kernelspec": {
   "display_name": "Python 3 (ipykernel)",
   "language": "python",
   "name": "python3"
  },
  "language_info": {
   "codemirror_mode": {
    "name": "ipython",
    "version": 3
   },
   "file_extension": ".py",
   "mimetype": "text/x-python",
   "name": "python",
   "nbconvert_exporter": "python",
   "pygments_lexer": "ipython3",
   "version": "3.8.11"
  }
 },
 "nbformat": 4,
 "nbformat_minor": 5
}
